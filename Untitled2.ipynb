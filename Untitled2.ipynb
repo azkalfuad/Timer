{
  "nbformat": 4,
  "nbformat_minor": 0,
  "metadata": {
    "colab": {
      "provenance": [],
      "authorship_tag": "ABX9TyPzhm5Qpfqb/GwkmGGWkNJl",
      "include_colab_link": true
    },
    "kernelspec": {
      "name": "python3",
      "display_name": "Python 3"
    },
    "language_info": {
      "name": "python"
    }
  },
  "cells": [
    {
      "cell_type": "markdown",
      "metadata": {
        "id": "view-in-github",
        "colab_type": "text"
      },
      "source": [
        "<a href=\"https://colab.research.google.com/github/eunoia-1st/Experiment-13-8-2023/blob/main/Untitled2.ipynb\" target=\"_parent\"><img src=\"https://colab.research.google.com/assets/colab-badge.svg\" alt=\"Open In Colab\"/></a>"
      ]
    },
    {
      "cell_type": "code",
      "execution_count": null,
      "metadata": {
        "colab": {
          "base_uri": "https://localhost:8080/"
        },
        "id": "cW03vRGt7zEg",
        "outputId": "3957a421-2176-4453-c4dd-883344dbb3aa"
      },
      "outputs": [
        {
          "output_type": "stream",
          "name": "stdout",
          "text": [
            "Hello world\n"
          ]
        }
      ],
      "source": [
        "print(\"Hello world\")"
      ]
    },
    {
      "cell_type": "code",
      "source": [
        "import time\n",
        "\n",
        "my_time = int(input(\"Setelah Google Colab: \"))\n",
        "\n",
        "for x in range(my_time, 0, -1):\n",
        "    detik = x %  60\n",
        "    menit = int(x  / 60) % 60\n",
        "    jam = int(x / 3600)\n",
        "    print(f\"{jam:02}:{menit:02}:{detik:02}\")\n",
        "    time.sleep(1)\n",
        "\n",
        "print(\"Time's UP\")"
      ],
      "metadata": {
        "colab": {
          "base_uri": "https://localhost:8080/"
        },
        "id": "nFj_lSn079Ta",
        "outputId": "cdc98ab7-b902-47b8-a99d-471dfbe06590"
      },
      "execution_count": null,
      "outputs": [
        {
          "output_type": "stream",
          "name": "stdout",
          "text": [
            "Baru aja diedit: 12\n",
            "00:00:12\n",
            "00:00:11\n",
            "00:00:10\n",
            "00:00:09\n",
            "00:00:08\n",
            "00:00:07\n",
            "00:00:06\n",
            "00:00:05\n",
            "00:00:04\n",
            "00:00:03\n",
            "00:00:02\n",
            "00:00:01\n",
            "Time's UP\n"
          ]
        }
      ]
    }
  ]
}